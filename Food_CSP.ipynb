{
  "nbformat": 4,
  "nbformat_minor": 0,
  "metadata": {
    "colab": {
      "provenance": [],
      "authorship_tag": "ABX9TyOIJVXyIRIYEtCkJCs52cQv",
      "include_colab_link": true
    },
    "kernelspec": {
      "name": "python3",
      "display_name": "Python 3"
    },
    "language_info": {
      "name": "python"
    }
  },
  "cells": [
    {
      "cell_type": "markdown",
      "metadata": {
        "id": "view-in-github",
        "colab_type": "text"
      },
      "source": [
        "<a href=\"https://colab.research.google.com/github/SonnyDev/food_csp/blob/main/Food_CSP.ipynb\" target=\"_parent\"><img src=\"https://colab.research.google.com/assets/colab-badge.svg\" alt=\"Open In Colab\"/></a>"
      ]
    },
    {
      "cell_type": "code",
      "source": [
        "!pip install ortools"
      ],
      "metadata": {
        "id": "jnfZBCu88xEp"
      },
      "execution_count": null,
      "outputs": []
    },
    {
      "cell_type": "code",
      "execution_count": null,
      "metadata": {
        "colab": {
          "base_uri": "https://localhost:8080/"
        },
        "id": "io3IxjXM8eYQ",
        "outputId": "cf28fb8b-2b82-4da8-e541-52a6db5c30b5"
      },
      "outputs": [
        {
          "output_type": "stream",
          "name": "stdout",
          "text": [
            "Optimal solution found with total cost: 825\n",
            "Selected desserts: chocolatecake (Energy: 2500, Protein: 400, Salt: 20, Fat: 100, Cost: 600)\n",
            "Selected mains: rice (Energy: 1200, Protein: 50, Salt: 5, Fat: 20, Cost: 100)\n",
            "Selected sides: broccoli (Energy: 700, Protein: 100, Salt: 10, Fat: 10, Cost: 125)\n"
          ]
        }
      ],
      "source": [
        "from ortools.sat.python import cp_model\n",
        "\n",
        "model = cp_model.CpModel()\n",
        "\n",
        "# Data Preparation\n",
        "FOODS = [\"icecream\", \"banana\", \"chocolatecake\", \"lasagna\", \"steak\", \"rice\", \"chips\", \"broccoli\", \"beans\"]\n",
        "FEATURES = [\"energy\", \"protein\", \"salt\", \"fat\", \"cost\"]\n",
        "dd_values = {\n",
        "    \"icecream\": [1200, 50, 10, 120, 400],\n",
        "    \"banana\": [800, 120, 5, 20, 120],\n",
        "    \"chocolatecake\": [2500, 400, 20, 100, 600],\n",
        "    \"lasagna\": [3000, 200, 100, 250, 450],\n",
        "    \"steak\": [1800, 800, 50, 100, 1200],\n",
        "    \"rice\": [1200, 50, 5, 20, 100],\n",
        "    \"chips\": [2000, 50, 200, 200, 250],\n",
        "    \"broccoli\": [700, 100, 10, 10, 125],\n",
        "    \"beans\": [1900, 250, 60, 90, 150]\n",
        "}\n",
        "categories = {\n",
        "    \"desserts\": [\"icecream\", \"banana\", \"chocolatecake\"],\n",
        "    \"mains\": [\"lasagna\", \"steak\", \"rice\"],\n",
        "    \"sides\": [\"chips\", \"broccoli\", \"beans\"]\n",
        "}\n",
        "\n",
        "# Decision Variables\n",
        "food_selection = {}\n",
        "for category, items in categories.items():\n",
        "    for food in items:\n",
        "        food_selection[(category, food)] = model.NewBoolVar(f'select_{category}_{food}')\n",
        "\n",
        "# Constraints for selecting exactly one food per category\n",
        "for category in categories.keys():\n",
        "    model.Add(sum(food_selection[(category, food)] for food in categories[category]) == 1)\n",
        "\n",
        "# Nutritional and Cost Constraints\n",
        "total_energy = model.NewIntVar(0, 10000, 'total_energy')\n",
        "total_protein = model.NewIntVar(0, 10000, 'total_protein')\n",
        "total_salt = model.NewIntVar(0, 10000, 'total_salt')\n",
        "total_fat = model.NewIntVar(0, 10000, 'total_fat')\n",
        "total_cost = model.NewIntVar(0, 10000, 'total_cost')\n",
        "\n",
        "# Linking food selection to nutritional values and cost\n",
        "model.Add(total_energy == sum(dd_values[food][0] * food_selection[(category, food)] for category, foods in categories.items() for food in foods))\n",
        "model.Add(total_protein == sum(dd_values[food][1] * food_selection[(category, food)] for category, foods in categories.items() for food in foods))\n",
        "model.Add(total_salt == sum(dd_values[food][2] * food_selection[(category, food)] for category, foods in categories.items() for food in foods))\n",
        "model.Add(total_fat == sum(dd_values[food][3] * food_selection[(category, food)] for category, foods in categories.items() for food in foods))\n",
        "model.Add(total_cost == sum(dd_values[food][4] * food_selection[(category, food)] for category, foods in categories.items() for food in foods))\n",
        "\n",
        "# Nutritional Goals and Limits\n",
        "min_energy = 3300\n",
        "min_protein = 500\n",
        "max_salt = 180\n",
        "max_fat = 320\n",
        "\n",
        "model.Add(total_energy >= min_energy)\n",
        "model.Add(total_protein >= min_protein)\n",
        "model.Add(total_salt <= max_salt)\n",
        "model.Add(total_fat <= max_fat)\n",
        "\n",
        "# Objective: Minimize Total Cost\n",
        "model.Minimize(total_cost)\n",
        "\n",
        "# Solve the model\n",
        "solver = cp_model.CpSolver()\n",
        "status = solver.Solve(model)\n",
        "\n",
        "if status == cp_model.OPTIMAL:\n",
        "    print(\"Optimal solution found with total cost:\", solver.Value(total_cost))\n",
        "    for category, foods in categories.items():\n",
        "        for food in foods:\n",
        "            if solver.Value(food_selection[(category, food)]) == 1:\n",
        "                print(f\"Selected {category}: {food} (Energy: {dd_values[food][0]}, Protein: {dd_values[food][1]}, Salt: {dd_values[food][2]}, Fat: {dd_values[food][3]}, Cost: {dd_values[food][4]})\")\n",
        "else:\n",
        "    print(\"No solution found.\")"
      ]
    },
    {
      "cell_type": "code",
      "source": [],
      "metadata": {
        "id": "hE1eQumC88fS"
      },
      "execution_count": null,
      "outputs": []
    }
  ]
}